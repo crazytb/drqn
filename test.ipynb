{
 "cells": [
  {
   "cell_type": "code",
   "execution_count": 58,
   "metadata": {},
   "outputs": [
    {
     "data": {
      "text/plain": [
       "array([81.62])"
      ]
     },
     "execution_count": 58,
     "metadata": {},
     "output_type": "execute_result"
    }
   ],
   "source": [
    "import pandas as pd\n",
    "import numpy as np\n",
    "\n",
    "n_steps = 300\n",
    "n_nodes = 10\n",
    "tx_prob = 1/n_nodes\n",
    "data_tx = np.zeros((n_steps, n_nodes))\n",
    "data_aoi = np.zeros((n_steps, n_nodes))\n",
    "reward = np.zeros((n_steps, 1))\n",
    "data_tx[0,:] = 0\n",
    "data_aoi[0,:] = 0\n",
    "\n",
    "for i in range(1, n_steps):\n",
    "    data_tx[i] = (np.random.rand(n_nodes)<tx_prob).astype(int)\n",
    "    # Success if only one node transmits\n",
    "    if np.sum(data_tx[i]) == 1:\n",
    "        succ_idx = np.where(data_tx[i])[0]\n",
    "        for j in range(n_nodes):\n",
    "            if j == succ_idx:\n",
    "                data_aoi[i,j] = 0\n",
    "            else:\n",
    "                data_aoi[i,j] = data_aoi[i-1,j] + (1/n_steps)\n",
    "        reward[i] = 1 - 1*max(data_aoi[i,:]) # 보낸 갯수만큼 보상을 준다.\n",
    "    else:\n",
    "        succ_idx = None\n",
    "        data_aoi[i,:] = data_aoi[i-1,:] + (1/n_steps)\n",
    "        reward[i] = 0 - 1*max(data_aoi[i,:]) # 보낸 갯수만큼 보상을 준다.\n",
    "\n",
    "sum(reward)"
   ]
  }
 ],
 "metadata": {
  "kernelspec": {
   "display_name": "torch-cert",
   "language": "python",
   "name": "python3"
  },
  "language_info": {
   "codemirror_mode": {
    "name": "ipython",
    "version": 3
   },
   "file_extension": ".py",
   "mimetype": "text/x-python",
   "name": "python",
   "nbconvert_exporter": "python",
   "pygments_lexer": "ipython3",
   "version": "3.9.17"
  }
 },
 "nbformat": 4,
 "nbformat_minor": 2
}
